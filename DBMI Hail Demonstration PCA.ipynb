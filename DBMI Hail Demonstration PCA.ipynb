{
 "cells": [
  {
   "cell_type": "markdown",
   "metadata": {},
   "source": [
    "# i2b2 tranSMART working session - Boston, MA.\n",
    "## 260 Longwood Ave - Tosteson Medical Education Center\n",
    "## TMEC rooms 306 and TMEC L-007\n",
    "### Thursday, June 28th"
   ]
  },
  {
   "cell_type": "markdown",
   "metadata": {},
   "source": [
    "# Hail Demo"
   ]
  },
  {
   "cell_type": "markdown",
   "metadata": {},
   "source": [
    "<img src=\"https://hail.is/docs/devel/hail-logo-cropped.png\" width= \"150px\">"
   ]
  },
  {
   "cell_type": "markdown",
   "metadata": {},
   "source": [
    "## Documentation:"
   ]
  },
  {
   "cell_type": "markdown",
   "metadata": {},
   "source": [
    "https://hail.is/\n",
    "\n",
    "https://hail.is/docs/devel/tutorials/01-genome-wide-association-study.html#Check-for-tutorial-data-or-download-if-necessary"
   ]
  },
  {
   "cell_type": "code",
   "execution_count": 1,
   "metadata": {},
   "outputs": [
    {
     "name": "stderr",
     "output_type": "stream",
     "text": [
      "Running on Apache Spark version 2.2.1\n",
      "SparkUI available at http://10.128.0.7:4040\n",
      "Welcome to\n",
      "     __  __     <>__\n",
      "    / /_/ /__  __/ /\n",
      "   / __  / _ `/ / /\n",
      "  /_/ /_/\\_,_/_/_/   version devel-aa83f2a1d041\n",
      "NOTE: This is a beta version. Interfaces may change\n",
      "  during the beta period. We recommend pulling\n",
      "  the latest changes weekly.\n"
     ]
    }
   ],
   "source": [
    "# Install Hail environment\n",
    "import hail as hl\n",
    "import hail.expr.aggregators as agg\n",
    "hl.init()"
   ]
  },
  {
   "cell_type": "markdown",
   "metadata": {},
   "source": [
    "## Import Matrix Table file"
   ]
  },
  {
   "cell_type": "code",
   "execution_count": 2,
   "metadata": {},
   "outputs": [],
   "source": [
    "# about 1.2TB data\n",
    "vds = hl.read_matrix_table(\"gs://1k-genome/1000-genomes/VDS-of-all/ALL.chr.integrated_phase1_v3.20101123.snps_indels_svs.genotypes.mt\")"
   ]
  },
  {
   "cell_type": "markdown",
   "metadata": {},
   "source": [
    "## Getting to know our data "
   ]
  },
  {
   "cell_type": "markdown",
   "metadata": {},
   "source": [
    "### Describe the data"
   ]
  },
  {
   "cell_type": "code",
   "execution_count": 3,
   "metadata": {},
   "outputs": [
    {
     "data": {
      "text/plain": [
       "(39706715, 1092)"
      ]
     },
     "execution_count": 3,
     "metadata": {},
     "output_type": "execute_result"
    }
   ],
   "source": [
    "#size of the matrix\n",
    "vds.count()"
   ]
  },
  {
   "cell_type": "code",
   "execution_count": 4,
   "metadata": {},
   "outputs": [
    {
     "data": {
      "text/plain": [
       "1092"
      ]
     },
     "execution_count": 4,
     "metadata": {},
     "output_type": "execute_result"
    }
   ],
   "source": [
    "#number of colomns\n",
    "vds.count_cols()"
   ]
  },
  {
   "cell_type": "code",
   "execution_count": 5,
   "metadata": {},
   "outputs": [
    {
     "data": {
      "text/plain": [
       "39706715"
      ]
     },
     "execution_count": 5,
     "metadata": {},
     "output_type": "execute_result"
    }
   ],
   "source": [
    "#number of rows \n",
    "vds.count_rows()"
   ]
  },
  {
   "cell_type": "code",
   "execution_count": 6,
   "metadata": {},
   "outputs": [
    {
     "name": "stdout",
     "output_type": "stream",
     "text": [
      "----------------------------------------\n",
      "Global fields:\n",
      "    None\n",
      "----------------------------------------\n",
      "Column fields:\n",
      "    's': str \n",
      "----------------------------------------\n",
      "Row fields:\n",
      "    'locus': locus<GRCh37> \n",
      "    'alleles': array<str> \n",
      "    'rsid': str \n",
      "    'qual': float64 \n",
      "    'filters': set<str> \n",
      "    'info': struct {\n",
      "        LDAF: float64, \n",
      "        AVGPOST: float64, \n",
      "        RSQ: float64, \n",
      "        ERATE: float64, \n",
      "        THETA: float64, \n",
      "        CIEND: array<int32>, \n",
      "        CIPOS: array<int32>, \n",
      "        END: int32, \n",
      "        HOMLEN: array<int32>, \n",
      "        HOMSEQ: array<str>, \n",
      "        SVLEN: int32, \n",
      "        SVTYPE: str, \n",
      "        AC: array<int32>, \n",
      "        AN: int32, \n",
      "        AA: str, \n",
      "        AF: array<float64>, \n",
      "        AMR_AF: float64, \n",
      "        ASN_AF: float64, \n",
      "        AFR_AF: float64, \n",
      "        EUR_AF: float64, \n",
      "        VT: str, \n",
      "        SNPSOURCE: array<str>\n",
      "    } \n",
      "----------------------------------------\n",
      "Entry fields:\n",
      "    'GT': call \n",
      "    'DS': float64 \n",
      "    'GL': array<float64> \n",
      "    'PL': array<int32> \n",
      "----------------------------------------\n",
      "Column key: ['s']\n",
      "Row key: ['locus', 'alleles']\n",
      "Partition key: ['locus']\n",
      "----------------------------------------\n"
     ]
    }
   ],
   "source": [
    "vds.describe()"
   ]
  },
  {
   "cell_type": "code",
   "execution_count": 7,
   "metadata": {},
   "outputs": [
    {
     "data": {
      "text/plain": [
       "['locus', 'alleles', 'rsid', 'qual', 'filters', 'info']"
      ]
     },
     "execution_count": 7,
     "metadata": {},
     "output_type": "execute_result"
    }
   ],
   "source": [
    "list(vds.row)"
   ]
  },
  {
   "cell_type": "markdown",
   "metadata": {},
   "source": [
    "### See the data in more detail"
   ]
  },
  {
   "cell_type": "code",
   "execution_count": 8,
   "metadata": {},
   "outputs": [
    {
     "name": "stdout",
     "output_type": "stream",
     "text": [
      "+---------------+------------+-------------+-------------+----------+-------------+\n",
      "| locus         | alleles    | rsid        |        qual | filters  |   info.LDAF |\n",
      "+---------------+------------+-------------+-------------+----------+-------------+\n",
      "| locus<GRCh37> | array<str> | str         |     float64 | set<str> |     float64 |\n",
      "+---------------+------------+-------------+-------------+----------+-------------+\n",
      "| 1:10583       | [\"G\",\"A\"]  | rs58108140  | 1.00000e+02 | []       | 2.32700e-01 |\n",
      "| 1:10611       | [\"C\",\"G\"]  | rs189107123 | 1.00000e+02 | []       | 4.79000e-02 |\n",
      "| 1:13302       | [\"C\",\"T\"]  | rs180734498 | 1.00000e+02 | []       | 1.57300e-01 |\n",
      "+---------------+------------+-------------+-------------+----------+-------------+\n",
      "\n",
      "+--------------+-------------+-------------+-------------+--------------+\n",
      "| info.AVGPOST |    info.RSQ |  info.ERATE |  info.THETA | info.CIEND   |\n",
      "+--------------+-------------+-------------+-------------+--------------+\n",
      "|      float64 |     float64 |     float64 |     float64 | array<int32> |\n",
      "+--------------+-------------+-------------+-------------+--------------+\n",
      "|  7.70700e-01 | 4.31900e-01 | 1.61000e-02 | 4.60000e-03 | null         |\n",
      "|  9.33000e-01 | 3.47500e-01 | 4.80000e-03 | 7.70000e-03 | null         |\n",
      "|  8.89500e-01 | 6.28100e-01 | 5.80000e-03 | 4.80000e-03 | null         |\n",
      "+--------------+-------------+-------------+-------------+--------------+\n",
      "\n",
      "+--------------+----------+--------------+-------------+------------+-------------+\n",
      "| info.CIPOS   | info.END | info.HOMLEN  | info.HOMSEQ | info.SVLEN | info.SVTYPE |\n",
      "+--------------+----------+--------------+-------------+------------+-------------+\n",
      "| array<int32> |    int32 | array<int32> | array<str>  |      int32 | str         |\n",
      "+--------------+----------+--------------+-------------+------------+-------------+\n",
      "| null         |       NA | null         | null        |         NA | NA          |\n",
      "| null         |       NA | null         | null        |         NA | NA          |\n",
      "| null         |       NA | null         | null        |         NA | NA          |\n",
      "+--------------+----------+--------------+-------------+------------+-------------+\n",
      "\n",
      "+--------------+---------+---------+----------------+-------------+-------------+\n",
      "| info.AC      | info.AN | info.AA | info.AF        | info.AMR_AF | info.ASN_AF |\n",
      "+--------------+---------+---------+----------------+-------------+-------------+\n",
      "| array<int32> |   int32 | str     | array<float64> |     float64 |     float64 |\n",
      "+--------------+---------+---------+----------------+-------------+-------------+\n",
      "| [314]        |    2184 | NA      | [0.14]         | 1.70000e-01 | 1.30000e-01 |\n",
      "| [41]         |    2184 | NA      | [0.02]         | 3.00000e-02 | 1.00000e-02 |\n",
      "| [249]        |    2184 | NA      | [0.11]         | 8.00000e-02 | 2.00000e-02 |\n",
      "+--------------+---------+---------+----------------+-------------+-------------+\n",
      "\n",
      "+-------------+-------------+---------+----------------+\n",
      "| info.AFR_AF | info.EUR_AF | info.VT | info.SNPSOURCE |\n",
      "+-------------+-------------+---------+----------------+\n",
      "|     float64 |     float64 | str     | array<str>     |\n",
      "+-------------+-------------+---------+----------------+\n",
      "| 4.00000e-02 | 2.10000e-01 | SNP     | [\"LOWCOV\"]     |\n",
      "| 1.00000e-02 | 2.00000e-02 | SNP     | [\"LOWCOV\"]     |\n",
      "| 2.10000e-01 | 1.40000e-01 | SNP     | [\"LOWCOV\"]     |\n",
      "+-------------+-------------+---------+----------------+\n",
      "showing top 3 rows\n",
      "\n"
     ]
    }
   ],
   "source": [
    "# see the variants\n",
    "vds.rows().show(3)"
   ]
  },
  {
   "cell_type": "code",
   "execution_count": 7,
   "metadata": {},
   "outputs": [
    {
     "name": "stdout",
     "output_type": "stream",
     "text": [
      "+---------+\n",
      "| s       |\n",
      "+---------+\n",
      "| str     |\n",
      "+---------+\n",
      "| HG00096 |\n",
      "| HG00097 |\n",
      "| HG00099 |\n",
      "| HG00100 |\n",
      "| HG00101 |\n",
      "+---------+\n",
      "showing top 5 rows\n",
      "\n"
     ]
    }
   ],
   "source": [
    "# Display the samples\n",
    "vds.s.show(5)"
   ]
  },
  {
   "cell_type": "code",
   "execution_count": 16,
   "metadata": {},
   "outputs": [],
   "source": [
    "samples = vds.s.take(1091)"
   ]
  },
  {
   "cell_type": "markdown",
   "metadata": {},
   "source": [
    "### Find additional details regarding variant calls and genotype information here: \n",
    "https://gatkforums.broadinstitute.org/gatk/discussion/1268/what-is-a-vcf-and-how-should-i-interpret-it"
   ]
  },
  {
   "cell_type": "code",
   "execution_count": 17,
   "metadata": {
    "scrolled": false
   },
   "outputs": [
    {
     "data": {
      "text/plain": [
       "[Struct(GT=0|0, DS=0.2, GL=[-0.18, -0.47, -2.42], PL=None),\n",
       " Struct(GT=0|0, DS=0.15, GL=[-0.24, -0.44, -1.16], PL=None),\n",
       " Struct(GT=0|0, DS=0.15, GL=[-0.15, -0.54, -3.12], PL=None)]"
      ]
     },
     "execution_count": 17,
     "metadata": {},
     "output_type": "execute_result"
    }
   ],
   "source": [
    "# see the genotypes \n",
    "vds.entry.take(3)"
   ]
  },
  {
   "cell_type": "markdown",
   "metadata": {},
   "source": [
    "### Adding column fields"
   ]
  },
  {
   "cell_type": "markdown",
   "metadata": {},
   "source": [
    "*Super_Population* will be the phenotoype of interest."
   ]
  },
  {
   "cell_type": "code",
   "execution_count": 18,
   "metadata": {},
   "outputs": [
    {
     "name": "stderr",
     "output_type": "stream",
     "text": [
      "2018-06-27 17:16:11 Hail: INFO: Reading table with no type imputation\n",
      "  Loading column 'Sample' as type 'str' (type not specified)\n",
      "  Loading column 'Super_Population' as type 'str' (type not specified)\n",
      "\n"
     ]
    }
   ],
   "source": [
    "#Import only the phenotype Super Population\n",
    "table = (hl.import_table('gs://ines-python/ines-project/tab.csv', delimiter=',').key_by('Sample'))"
   ]
  },
  {
   "cell_type": "code",
   "execution_count": 19,
   "metadata": {},
   "outputs": [
    {
     "name": "stdout",
     "output_type": "stream",
     "text": [
      "----------------------------------------\n",
      "Global fields:\n",
      "    None\n",
      "----------------------------------------\n",
      "Row fields:\n",
      "    'Sample': str \n",
      "    'Super_Population': str \n",
      "----------------------------------------\n",
      "Key: ['Sample']\n",
      "----------------------------------------\n"
     ]
    }
   ],
   "source": [
    "table.describe()"
   ]
  },
  {
   "cell_type": "code",
   "execution_count": 20,
   "metadata": {},
   "outputs": [
    {
     "name": "stdout",
     "output_type": "stream",
     "text": [
      "+---------+------------------+\n",
      "| Sample  | Super_Population |\n",
      "+---------+------------------+\n",
      "| str     | str              |\n",
      "+---------+------------------+\n",
      "| HG00096 | EUR              |\n",
      "| HG00097 | EUR              |\n",
      "| HG00098 | EUR              |\n",
      "| HG00099 | EUR              |\n",
      "| HG00100 | EUR              |\n",
      "+---------+------------------+\n",
      "showing top 5 rows\n",
      "\n"
     ]
    }
   ],
   "source": [
    "table.show(5)"
   ]
  },
  {
   "cell_type": "code",
   "execution_count": 21,
   "metadata": {},
   "outputs": [],
   "source": [
    "# Annotate the VDS\n",
    "vds = vds.annotate_cols(**table[vds.s])"
   ]
  },
  {
   "cell_type": "code",
   "execution_count": 22,
   "metadata": {},
   "outputs": [
    {
     "name": "stdout",
     "output_type": "stream",
     "text": [
      "struct{s: str, Super_Population: str}\n"
     ]
    }
   ],
   "source": [
    "print(vds.col.dtype)"
   ]
  },
  {
   "cell_type": "code",
   "execution_count": 23,
   "metadata": {},
   "outputs": [
    {
     "name": "stdout",
     "output_type": "stream",
     "text": [
      "{'AFR': 1018, 'EAS': 617, 'AMR': 535, 'SAS': 661, 'EUR': 669}\n"
     ]
    }
   ],
   "source": [
    "print(table.aggregate(agg.counter(table.Super_Population)))"
   ]
  },
  {
   "cell_type": "code",
   "execution_count": 24,
   "metadata": {},
   "outputs": [
    {
     "name": "stdout",
     "output_type": "stream",
     "text": [
      "No module named 'dask'\n"
     ]
    },
    {
     "data": {
      "text/html": [
       "<div>\n",
       "<style scoped>\n",
       "    .dataframe tbody tr th:only-of-type {\n",
       "        vertical-align: middle;\n",
       "    }\n",
       "\n",
       "    .dataframe tbody tr th {\n",
       "        vertical-align: top;\n",
       "    }\n",
       "\n",
       "    .dataframe thead th {\n",
       "        text-align: right;\n",
       "    }\n",
       "</style>\n",
       "<table border=\"1\" class=\"dataframe\">\n",
       "  <thead>\n",
       "    <tr style=\"text-align: right;\">\n",
       "      <th></th>\n",
       "      <th>Sample</th>\n",
       "      <th>Family_ID</th>\n",
       "      <th>Population</th>\n",
       "      <th>Population_Description</th>\n",
       "      <th>Gender</th>\n",
       "      <th>Relationship</th>\n",
       "      <th>Unexpected_Parent_Child</th>\n",
       "      <th>Non_Paternity</th>\n",
       "      <th>Siblings</th>\n",
       "      <th>Grandparents</th>\n",
       "      <th>...</th>\n",
       "      <th>In_Final_Phase_Variant_Calling</th>\n",
       "      <th>Has_Omni_Genotypes</th>\n",
       "      <th>Has_Axiom_Genotypes</th>\n",
       "      <th>Has_Affy_6_0_Genotypes</th>\n",
       "      <th>Has_Exome_LOF_Genotypes</th>\n",
       "      <th>EBV_Coverage</th>\n",
       "      <th>DNA_Source_from_Coriell</th>\n",
       "      <th>Has_Sequence_from_Blood_in_Index</th>\n",
       "      <th>Super_Population</th>\n",
       "      <th>Super_Population_Description</th>\n",
       "    </tr>\n",
       "  </thead>\n",
       "  <tbody>\n",
       "    <tr>\n",
       "      <th>0</th>\n",
       "      <td>HG00096</td>\n",
       "      <td>HG00096</td>\n",
       "      <td>GBR</td>\n",
       "      <td>British in England and Scotland</td>\n",
       "      <td>male</td>\n",
       "      <td>NaN</td>\n",
       "      <td>NaN</td>\n",
       "      <td>NaN</td>\n",
       "      <td>NaN</td>\n",
       "      <td>NaN</td>\n",
       "      <td>...</td>\n",
       "      <td>1.0</td>\n",
       "      <td>1.0</td>\n",
       "      <td>NaN</td>\n",
       "      <td>NaN</td>\n",
       "      <td>1.0</td>\n",
       "      <td>20.31</td>\n",
       "      <td>NaN</td>\n",
       "      <td>NaN</td>\n",
       "      <td>EUR</td>\n",
       "      <td>European</td>\n",
       "    </tr>\n",
       "    <tr>\n",
       "      <th>1</th>\n",
       "      <td>HG00097</td>\n",
       "      <td>HG00097</td>\n",
       "      <td>GBR</td>\n",
       "      <td>British in England and Scotland</td>\n",
       "      <td>female</td>\n",
       "      <td>NaN</td>\n",
       "      <td>NaN</td>\n",
       "      <td>NaN</td>\n",
       "      <td>NaN</td>\n",
       "      <td>NaN</td>\n",
       "      <td>...</td>\n",
       "      <td>1.0</td>\n",
       "      <td>1.0</td>\n",
       "      <td>NaN</td>\n",
       "      <td>NaN</td>\n",
       "      <td>1.0</td>\n",
       "      <td>169.49</td>\n",
       "      <td>NaN</td>\n",
       "      <td>NaN</td>\n",
       "      <td>EUR</td>\n",
       "      <td>European</td>\n",
       "    </tr>\n",
       "    <tr>\n",
       "      <th>2</th>\n",
       "      <td>HG00098</td>\n",
       "      <td>HG00098</td>\n",
       "      <td>GBR</td>\n",
       "      <td>British in England and Scotland</td>\n",
       "      <td>male</td>\n",
       "      <td>NaN</td>\n",
       "      <td>NaN</td>\n",
       "      <td>NaN</td>\n",
       "      <td>NaN</td>\n",
       "      <td>NaN</td>\n",
       "      <td>...</td>\n",
       "      <td>NaN</td>\n",
       "      <td>1.0</td>\n",
       "      <td>NaN</td>\n",
       "      <td>NaN</td>\n",
       "      <td>1.0</td>\n",
       "      <td>NaN</td>\n",
       "      <td>NaN</td>\n",
       "      <td>NaN</td>\n",
       "      <td>EUR</td>\n",
       "      <td>European</td>\n",
       "    </tr>\n",
       "    <tr>\n",
       "      <th>3</th>\n",
       "      <td>HG00099</td>\n",
       "      <td>HG00099</td>\n",
       "      <td>GBR</td>\n",
       "      <td>British in England and Scotland</td>\n",
       "      <td>female</td>\n",
       "      <td>NaN</td>\n",
       "      <td>NaN</td>\n",
       "      <td>NaN</td>\n",
       "      <td>NaN</td>\n",
       "      <td>NaN</td>\n",
       "      <td>...</td>\n",
       "      <td>1.0</td>\n",
       "      <td>1.0</td>\n",
       "      <td>NaN</td>\n",
       "      <td>NaN</td>\n",
       "      <td>1.0</td>\n",
       "      <td>23.04</td>\n",
       "      <td>NaN</td>\n",
       "      <td>NaN</td>\n",
       "      <td>EUR</td>\n",
       "      <td>European</td>\n",
       "    </tr>\n",
       "    <tr>\n",
       "      <th>4</th>\n",
       "      <td>HG00100</td>\n",
       "      <td>HG00100</td>\n",
       "      <td>GBR</td>\n",
       "      <td>British in England and Scotland</td>\n",
       "      <td>female</td>\n",
       "      <td>NaN</td>\n",
       "      <td>NaN</td>\n",
       "      <td>NaN</td>\n",
       "      <td>NaN</td>\n",
       "      <td>NaN</td>\n",
       "      <td>...</td>\n",
       "      <td>1.0</td>\n",
       "      <td>1.0</td>\n",
       "      <td>NaN</td>\n",
       "      <td>NaN</td>\n",
       "      <td>1.0</td>\n",
       "      <td>116.22</td>\n",
       "      <td>NaN</td>\n",
       "      <td>NaN</td>\n",
       "      <td>EUR</td>\n",
       "      <td>European</td>\n",
       "    </tr>\n",
       "  </tbody>\n",
       "</table>\n",
       "<p>5 rows × 62 columns</p>\n",
       "</div>"
      ],
      "text/plain": [
       "    Sample Family_ID Population           Population_Description  Gender  \\\n",
       "0  HG00096   HG00096        GBR  British in England and Scotland    male   \n",
       "1  HG00097   HG00097        GBR  British in England and Scotland  female   \n",
       "2  HG00098   HG00098        GBR  British in England and Scotland    male   \n",
       "3  HG00099   HG00099        GBR  British in England and Scotland  female   \n",
       "4  HG00100   HG00100        GBR  British in England and Scotland  female   \n",
       "\n",
       "  Relationship Unexpected_Parent_Child Non_Paternity Siblings Grandparents  \\\n",
       "0          NaN                     NaN           NaN      NaN          NaN   \n",
       "1          NaN                     NaN           NaN      NaN          NaN   \n",
       "2          NaN                     NaN           NaN      NaN          NaN   \n",
       "3          NaN                     NaN           NaN      NaN          NaN   \n",
       "4          NaN                     NaN           NaN      NaN          NaN   \n",
       "\n",
       "              ...              In_Final_Phase_Variant_Calling  \\\n",
       "0             ...                                         1.0   \n",
       "1             ...                                         1.0   \n",
       "2             ...                                         NaN   \n",
       "3             ...                                         1.0   \n",
       "4             ...                                         1.0   \n",
       "\n",
       "  Has_Omni_Genotypes Has_Axiom_Genotypes Has_Affy_6_0_Genotypes  \\\n",
       "0                1.0                 NaN                    NaN   \n",
       "1                1.0                 NaN                    NaN   \n",
       "2                1.0                 NaN                    NaN   \n",
       "3                1.0                 NaN                    NaN   \n",
       "4                1.0                 NaN                    NaN   \n",
       "\n",
       "   Has_Exome_LOF_Genotypes EBV_Coverage DNA_Source_from_Coriell  \\\n",
       "0                      1.0        20.31                     NaN   \n",
       "1                      1.0       169.49                     NaN   \n",
       "2                      1.0          NaN                     NaN   \n",
       "3                      1.0        23.04                     NaN   \n",
       "4                      1.0       116.22                     NaN   \n",
       "\n",
       "   Has_Sequence_from_Blood_in_Index Super_Population  \\\n",
       "0                               NaN              EUR   \n",
       "1                               NaN              EUR   \n",
       "2                               NaN              EUR   \n",
       "3                               NaN              EUR   \n",
       "4                               NaN              EUR   \n",
       "\n",
       "  Super_Population_Description  \n",
       "0                     European  \n",
       "1                     European  \n",
       "2                     European  \n",
       "3                     European  \n",
       "4                     European  \n",
       "\n",
       "[5 rows x 62 columns]"
      ]
     },
     "execution_count": 24,
     "metadata": {},
     "output_type": "execute_result"
    }
   ],
   "source": [
    "import gcsfs\n",
    "fs = gcsfs.GCSFileSystem(project='avl-hail-ines')\n",
    "import pandas as pd\n",
    "#import all the sample informations\n",
    "with fs.open('1k-genome/1000-genomes/other/sample_info/sample_info.csv',\"rt\") as f:\n",
    "    data = pd.read_csv(f)\n",
    "data.head()"
   ]
  },
  {
   "cell_type": "code",
   "execution_count": 25,
   "metadata": {},
   "outputs": [
    {
     "data": {
      "text/plain": [
       "(3500, 62)"
      ]
     },
     "execution_count": 25,
     "metadata": {},
     "output_type": "execute_result"
    }
   ],
   "source": [
    "data.shape"
   ]
  },
  {
   "cell_type": "code",
   "execution_count": 26,
   "metadata": {},
   "outputs": [
    {
     "data": {
      "text/plain": [
       "array(['EUR', 'EAS', 'AMR', 'SAS', 'AFR'], dtype=object)"
      ]
     },
     "execution_count": 26,
     "metadata": {},
     "output_type": "execute_result"
    }
   ],
   "source": [
    "#Super_population phenotype\n",
    "data.Super_Population.unique()"
   ]
  },
  {
   "cell_type": "markdown",
   "metadata": {},
   "source": [
    "Legend for the phenotype Super_Population : \n",
    "   \n",
    "  \n",
    "  - AMR = Americas\n",
    "  - EUR = European\n",
    "  - AFR = African\n",
    "  - EAS = East Asian"
   ]
  },
  {
   "cell_type": "markdown",
   "metadata": {},
   "source": [
    "## PCA"
   ]
  },
  {
   "cell_type": "markdown",
   "metadata": {},
   "source": [
    "We perform a PCA on a subset of the matrix : \n",
    "\n",
    "    - 100 samples \n",
    "    - 1 000 000 variants"
   ]
  },
  {
   "cell_type": "markdown",
   "metadata": {},
   "source": [
    "https://hail.is/docs/devel/methods/genetics.html?highlight=pca#hail.methods.hwe_normalized_pca"
   ]
  },
  {
   "cell_type": "code",
   "execution_count": 28,
   "metadata": {},
   "outputs": [
    {
     "data": {
      "text/plain": [
       "1092"
      ]
     },
     "execution_count": 28,
     "metadata": {},
     "output_type": "execute_result"
    }
   ],
   "source": [
    "import random\n",
    "indices = list(range(vds.count_cols()))\n",
    "random.shuffle(indices)\n",
    "len(indices)"
   ]
  },
  {
   "cell_type": "code",
   "execution_count": 29,
   "metadata": {},
   "outputs": [
    {
     "data": {
      "text/plain": [
       "(1000000, 500)"
      ]
     },
     "execution_count": 29,
     "metadata": {},
     "output_type": "execute_result"
    }
   ],
   "source": [
    "vds_reduct = vds.head(1000000).choose_cols(indices[1:501])\n",
    "vds_reduct.count()"
   ]
  },
  {
   "cell_type": "code",
   "execution_count": 30,
   "metadata": {},
   "outputs": [
    {
     "name": "stderr",
     "output_type": "stream",
     "text": [
      "2018-06-27 17:21:26 Hail: INFO: hwe_normalized_pca: running PCA using 832650 variants.\n",
      "2018-06-27 17:23:05 Hail: INFO: pca: running PCA with 3 components...\n"
     ]
    }
   ],
   "source": [
    "eigenvalues, scores, loadings = hl.hwe_normalized_pca(vds_reduct.GT, k=3)"
   ]
  },
  {
   "cell_type": "code",
   "execution_count": 31,
   "metadata": {},
   "outputs": [],
   "source": [
    "result_pca = scores.to_pandas()"
   ]
  },
  {
   "cell_type": "code",
   "execution_count": 32,
   "metadata": {},
   "outputs": [
    {
     "name": "stdout",
     "output_type": "stream",
     "text": [
      "[20.339878787405357, 9.524022815998423, 3.1753242869345644]\n"
     ]
    }
   ],
   "source": [
    "print(eigenvalues)"
   ]
  },
  {
   "cell_type": "code",
   "execution_count": 33,
   "metadata": {},
   "outputs": [
    {
     "data": {
      "text/html": [
       "<div>\n",
       "<style scoped>\n",
       "    .dataframe tbody tr th:only-of-type {\n",
       "        vertical-align: middle;\n",
       "    }\n",
       "\n",
       "    .dataframe tbody tr th {\n",
       "        vertical-align: top;\n",
       "    }\n",
       "\n",
       "    .dataframe thead th {\n",
       "        text-align: right;\n",
       "    }\n",
       "</style>\n",
       "<table border=\"1\" class=\"dataframe\">\n",
       "  <thead>\n",
       "    <tr style=\"text-align: right;\">\n",
       "      <th></th>\n",
       "      <th>s</th>\n",
       "      <th>scores</th>\n",
       "    </tr>\n",
       "  </thead>\n",
       "  <tbody>\n",
       "    <tr>\n",
       "      <th>0</th>\n",
       "      <td>NA19664</td>\n",
       "      <td>[-0.06723728812215236, -0.023979997814612047, ...</td>\n",
       "    </tr>\n",
       "    <tr>\n",
       "      <th>1</th>\n",
       "      <td>HG01191</td>\n",
       "      <td>[-0.03942432525221255, 0.10336143590935146, -0...</td>\n",
       "    </tr>\n",
       "    <tr>\n",
       "      <th>2</th>\n",
       "      <td>HG00306</td>\n",
       "      <td>[-0.1062335298196058, 0.13428074906955415, 0.0...</td>\n",
       "    </tr>\n",
       "    <tr>\n",
       "      <th>3</th>\n",
       "      <td>HG01357</td>\n",
       "      <td>[-0.1234620889816882, 0.03570673777181793, 0.0...</td>\n",
       "    </tr>\n",
       "    <tr>\n",
       "      <th>4</th>\n",
       "      <td>NA20127</td>\n",
       "      <td>[0.37091644999752693, -0.012523534110084923, 0...</td>\n",
       "    </tr>\n",
       "  </tbody>\n",
       "</table>\n",
       "</div>"
      ],
      "text/plain": [
       "         s                                             scores\n",
       "0  NA19664  [-0.06723728812215236, -0.023979997814612047, ...\n",
       "1  HG01191  [-0.03942432525221255, 0.10336143590935146, -0...\n",
       "2  HG00306  [-0.1062335298196058, 0.13428074906955415, 0.0...\n",
       "3  HG01357  [-0.1234620889816882, 0.03570673777181793, 0.0...\n",
       "4  NA20127  [0.37091644999752693, -0.012523534110084923, 0..."
      ]
     },
     "execution_count": 33,
     "metadata": {},
     "output_type": "execute_result"
    }
   ],
   "source": [
    "result_pca.head()"
   ]
  },
  {
   "cell_type": "code",
   "execution_count": 34,
   "metadata": {},
   "outputs": [
    {
     "data": {
      "text/plain": [
       "(500, 2)"
      ]
     },
     "execution_count": 34,
     "metadata": {},
     "output_type": "execute_result"
    }
   ],
   "source": [
    "result_pca.shape"
   ]
  },
  {
   "cell_type": "code",
   "execution_count": 35,
   "metadata": {
    "scrolled": true
   },
   "outputs": [],
   "source": [
    "# Merge the result of the PCA and the data about sample\n",
    "tab_merge = pd.merge(result_pca, data, left_on = 's', right_on = 'Sample')"
   ]
  },
  {
   "cell_type": "code",
   "execution_count": 36,
   "metadata": {},
   "outputs": [
    {
     "data": {
      "text/html": [
       "<div>\n",
       "<style scoped>\n",
       "    .dataframe tbody tr th:only-of-type {\n",
       "        vertical-align: middle;\n",
       "    }\n",
       "\n",
       "    .dataframe tbody tr th {\n",
       "        vertical-align: top;\n",
       "    }\n",
       "\n",
       "    .dataframe thead th {\n",
       "        text-align: right;\n",
       "    }\n",
       "</style>\n",
       "<table border=\"1\" class=\"dataframe\">\n",
       "  <thead>\n",
       "    <tr style=\"text-align: right;\">\n",
       "      <th></th>\n",
       "      <th>s</th>\n",
       "      <th>scores</th>\n",
       "      <th>Sample</th>\n",
       "      <th>Family_ID</th>\n",
       "      <th>Population</th>\n",
       "      <th>Population_Description</th>\n",
       "      <th>Gender</th>\n",
       "      <th>Relationship</th>\n",
       "      <th>Unexpected_Parent_Child</th>\n",
       "      <th>Non_Paternity</th>\n",
       "      <th>...</th>\n",
       "      <th>In_Final_Phase_Variant_Calling</th>\n",
       "      <th>Has_Omni_Genotypes</th>\n",
       "      <th>Has_Axiom_Genotypes</th>\n",
       "      <th>Has_Affy_6_0_Genotypes</th>\n",
       "      <th>Has_Exome_LOF_Genotypes</th>\n",
       "      <th>EBV_Coverage</th>\n",
       "      <th>DNA_Source_from_Coriell</th>\n",
       "      <th>Has_Sequence_from_Blood_in_Index</th>\n",
       "      <th>Super_Population</th>\n",
       "      <th>Super_Population_Description</th>\n",
       "    </tr>\n",
       "  </thead>\n",
       "  <tbody>\n",
       "    <tr>\n",
       "      <th>0</th>\n",
       "      <td>NA19664</td>\n",
       "      <td>[-0.06723728812215236, -0.023979997814612047, ...</td>\n",
       "      <td>NA19664</td>\n",
       "      <td>m012</td>\n",
       "      <td>MXL</td>\n",
       "      <td>Mexican Ancestry in Los Angeles, California</td>\n",
       "      <td>male</td>\n",
       "      <td>father</td>\n",
       "      <td>NaN</td>\n",
       "      <td>NaN</td>\n",
       "      <td>...</td>\n",
       "      <td>1.0</td>\n",
       "      <td>1.0</td>\n",
       "      <td>1.0</td>\n",
       "      <td>NaN</td>\n",
       "      <td>1.0</td>\n",
       "      <td>20.24</td>\n",
       "      <td>NaN</td>\n",
       "      <td>NaN</td>\n",
       "      <td>AMR</td>\n",
       "      <td>American</td>\n",
       "    </tr>\n",
       "    <tr>\n",
       "      <th>1</th>\n",
       "      <td>HG01191</td>\n",
       "      <td>[-0.03942432525221255, 0.10336143590935146, -0...</td>\n",
       "      <td>HG01191</td>\n",
       "      <td>PR40</td>\n",
       "      <td>PUR</td>\n",
       "      <td>Puerto Rican in Puerto Rico</td>\n",
       "      <td>female</td>\n",
       "      <td>mother</td>\n",
       "      <td>NaN</td>\n",
       "      <td>NaN</td>\n",
       "      <td>...</td>\n",
       "      <td>1.0</td>\n",
       "      <td>1.0</td>\n",
       "      <td>NaN</td>\n",
       "      <td>NaN</td>\n",
       "      <td>1.0</td>\n",
       "      <td>0.00</td>\n",
       "      <td>NaN</td>\n",
       "      <td>NaN</td>\n",
       "      <td>AMR</td>\n",
       "      <td>American</td>\n",
       "    </tr>\n",
       "    <tr>\n",
       "      <th>2</th>\n",
       "      <td>HG00306</td>\n",
       "      <td>[-0.1062335298196058, 0.13428074906955415, 0.0...</td>\n",
       "      <td>HG00306</td>\n",
       "      <td>HG00306</td>\n",
       "      <td>FIN</td>\n",
       "      <td>Finnish in Finland</td>\n",
       "      <td>female</td>\n",
       "      <td>NaN</td>\n",
       "      <td>NaN</td>\n",
       "      <td>NaN</td>\n",
       "      <td>...</td>\n",
       "      <td>1.0</td>\n",
       "      <td>1.0</td>\n",
       "      <td>NaN</td>\n",
       "      <td>NaN</td>\n",
       "      <td>1.0</td>\n",
       "      <td>668.99</td>\n",
       "      <td>NaN</td>\n",
       "      <td>NaN</td>\n",
       "      <td>EUR</td>\n",
       "      <td>European</td>\n",
       "    </tr>\n",
       "    <tr>\n",
       "      <th>3</th>\n",
       "      <td>HG01357</td>\n",
       "      <td>[-0.1234620889816882, 0.03570673777181793, 0.0...</td>\n",
       "      <td>HG01357</td>\n",
       "      <td>CLM31</td>\n",
       "      <td>CLM</td>\n",
       "      <td>Colombian in Medellin, Colombia</td>\n",
       "      <td>female</td>\n",
       "      <td>mother</td>\n",
       "      <td>NaN</td>\n",
       "      <td>NaN</td>\n",
       "      <td>...</td>\n",
       "      <td>1.0</td>\n",
       "      <td>1.0</td>\n",
       "      <td>NaN</td>\n",
       "      <td>NaN</td>\n",
       "      <td>1.0</td>\n",
       "      <td>117.15</td>\n",
       "      <td>NaN</td>\n",
       "      <td>NaN</td>\n",
       "      <td>AMR</td>\n",
       "      <td>American</td>\n",
       "    </tr>\n",
       "    <tr>\n",
       "      <th>4</th>\n",
       "      <td>NA20127</td>\n",
       "      <td>[0.37091644999752693, -0.012523534110084923, 0...</td>\n",
       "      <td>NA20127</td>\n",
       "      <td>2446</td>\n",
       "      <td>ASW</td>\n",
       "      <td>African Ancestry in Southwest US</td>\n",
       "      <td>female</td>\n",
       "      <td>mother</td>\n",
       "      <td>NaN</td>\n",
       "      <td>NaN</td>\n",
       "      <td>...</td>\n",
       "      <td>1.0</td>\n",
       "      <td>1.0</td>\n",
       "      <td>1.0</td>\n",
       "      <td>NaN</td>\n",
       "      <td>1.0</td>\n",
       "      <td>23.03</td>\n",
       "      <td>NaN</td>\n",
       "      <td>NaN</td>\n",
       "      <td>AFR</td>\n",
       "      <td>African</td>\n",
       "    </tr>\n",
       "  </tbody>\n",
       "</table>\n",
       "<p>5 rows × 64 columns</p>\n",
       "</div>"
      ],
      "text/plain": [
       "         s                                             scores   Sample  \\\n",
       "0  NA19664  [-0.06723728812215236, -0.023979997814612047, ...  NA19664   \n",
       "1  HG01191  [-0.03942432525221255, 0.10336143590935146, -0...  HG01191   \n",
       "2  HG00306  [-0.1062335298196058, 0.13428074906955415, 0.0...  HG00306   \n",
       "3  HG01357  [-0.1234620889816882, 0.03570673777181793, 0.0...  HG01357   \n",
       "4  NA20127  [0.37091644999752693, -0.012523534110084923, 0...  NA20127   \n",
       "\n",
       "  Family_ID Population                       Population_Description  Gender  \\\n",
       "0      m012        MXL  Mexican Ancestry in Los Angeles, California    male   \n",
       "1      PR40        PUR                  Puerto Rican in Puerto Rico  female   \n",
       "2   HG00306        FIN                           Finnish in Finland  female   \n",
       "3     CLM31        CLM              Colombian in Medellin, Colombia  female   \n",
       "4      2446        ASW             African Ancestry in Southwest US  female   \n",
       "\n",
       "  Relationship Unexpected_Parent_Child Non_Paternity  \\\n",
       "0       father                     NaN           NaN   \n",
       "1       mother                     NaN           NaN   \n",
       "2          NaN                     NaN           NaN   \n",
       "3       mother                     NaN           NaN   \n",
       "4       mother                     NaN           NaN   \n",
       "\n",
       "               ...              In_Final_Phase_Variant_Calling  \\\n",
       "0              ...                                         1.0   \n",
       "1              ...                                         1.0   \n",
       "2              ...                                         1.0   \n",
       "3              ...                                         1.0   \n",
       "4              ...                                         1.0   \n",
       "\n",
       "  Has_Omni_Genotypes Has_Axiom_Genotypes Has_Affy_6_0_Genotypes  \\\n",
       "0                1.0                 1.0                    NaN   \n",
       "1                1.0                 NaN                    NaN   \n",
       "2                1.0                 NaN                    NaN   \n",
       "3                1.0                 NaN                    NaN   \n",
       "4                1.0                 1.0                    NaN   \n",
       "\n",
       "  Has_Exome_LOF_Genotypes EBV_Coverage  DNA_Source_from_Coriell  \\\n",
       "0                     1.0        20.24                      NaN   \n",
       "1                     1.0         0.00                      NaN   \n",
       "2                     1.0       668.99                      NaN   \n",
       "3                     1.0       117.15                      NaN   \n",
       "4                     1.0        23.03                      NaN   \n",
       "\n",
       "  Has_Sequence_from_Blood_in_Index Super_Population  \\\n",
       "0                              NaN              AMR   \n",
       "1                              NaN              AMR   \n",
       "2                              NaN              EUR   \n",
       "3                              NaN              AMR   \n",
       "4                              NaN              AFR   \n",
       "\n",
       "   Super_Population_Description  \n",
       "0                      American  \n",
       "1                      American  \n",
       "2                      European  \n",
       "3                      American  \n",
       "4                       African  \n",
       "\n",
       "[5 rows x 64 columns]"
      ]
     },
     "execution_count": 36,
     "metadata": {},
     "output_type": "execute_result"
    }
   ],
   "source": [
    "tab_merge.head()"
   ]
  },
  {
   "cell_type": "code",
   "execution_count": 37,
   "metadata": {},
   "outputs": [
    {
     "data": {
      "text/plain": [
       "(500, 64)"
      ]
     },
     "execution_count": 37,
     "metadata": {},
     "output_type": "execute_result"
    }
   ],
   "source": [
    "tab_merge.shape"
   ]
  },
  {
   "cell_type": "code",
   "execution_count": 38,
   "metadata": {},
   "outputs": [
    {
     "data": {
      "text/plain": [
       "array(['AMR', 'EUR', 'AFR', 'EAS'], dtype=object)"
      ]
     },
     "execution_count": 38,
     "metadata": {},
     "output_type": "execute_result"
    }
   ],
   "source": [
    "tab_merge.Super_Population.unique()"
   ]
  },
  {
   "cell_type": "code",
   "execution_count": 39,
   "metadata": {},
   "outputs": [],
   "source": [
    "import pandas as pd, numpy as np, matplotlib.pyplot as plt, seaborn as sns\n",
    "%matplotlib inline\n",
    "from itertools import cycle\n",
    "cycol = cycle('bgrcmk')"
   ]
  },
  {
   "cell_type": "code",
   "execution_count": 40,
   "metadata": {},
   "outputs": [],
   "source": [
    "def scatter(table, phenotype='Super_Population', dimension=2):\n",
    "    \"\"\"Scatter the result of a PCA with two components.\n",
    "    Input:\n",
    "    - table: pd.DataFrame with n rows (ie the number of points/samples)\n",
    "    - phenotype : phenotype present in the table\n",
    "    - dimension : number of dimension for the PCA (2 or 3)\n",
    "    \"\"\"\n",
    "    for pop in (table[phenotype].unique()): \n",
    "        PCA1 = []\n",
    "        PCA2 = []\n",
    "        for i in (table[table[phenotype]==pop].index):\n",
    "            PCA1.append(table.scores[i][0:dimension][0])\n",
    "            PCA2.append(table.scores[i][0:dimension][1])\n",
    "        plt.scatter(PCA1,PCA2, label=pop, color = next(cycol))\n",
    "    plt.legend();"
   ]
  },
  {
   "cell_type": "code",
   "execution_count": 41,
   "metadata": {},
   "outputs": [
    {
     "data": {
      "image/png": "[encoded data removed]",
      "text/plain": [
       "<Figure size 432x288 with 1 Axes>"
      ]
     },
     "metadata": {},
     "output_type": "display_data"
    }
   ],
   "source": [
    "scatter(tab_merge)"
   ]
  },
  {
   "cell_type": "code",
   "execution_count": 42,
   "metadata": {},
   "outputs": [],
   "source": [
    "from mpl_toolkits.mplot3d import Axes3D"
   ]
  },
  {
   "cell_type": "code",
   "execution_count": 43,
   "metadata": {},
   "outputs": [],
   "source": [
    "def scatter3d(table, phenotype='Super_Population'):\n",
    "    \"\"\"Scatter the result of a PCA.\n",
    "    Input:\n",
    "    - table: pd.DataFrame with n rows (ie the number of points/samples)\n",
    "    - phenotype : phenotype present in the table\n",
    "    \"\"\"\n",
    "    \n",
    "    fig = plt.figure()\n",
    "    ax = fig.add_subplot(111, projection='3d')\n",
    "    for pop in (table[phenotype].unique()): \n",
    "        PCA1 = []\n",
    "        PCA2 = []\n",
    "        PCA3 = []\n",
    "        for i in (table[table[phenotype]==pop].index):\n",
    "            PCA1.append(table.scores[i][0:3][0])\n",
    "            PCA2.append(table.scores[i][0:3][1])\n",
    "            PCA3.append(table.scores[i][0:3][2])\n",
    "        ax.scatter(PCA1,PCA2, PCA3, label=pop)\n",
    "\n",
    "    plt.legend()\n",
    "   \n"
   ]
  },
  {
   "cell_type": "code",
   "execution_count": 44,
   "metadata": {},
   "outputs": [
    {
     "data": {
      "image/png": "[encoded data removed]",
      "text/plain": [
       "<Figure size 432x288 with 1 Axes>"
      ]
     },
     "metadata": {},
     "output_type": "display_data"
    }
   ],
   "source": [
    "scatter3d(tab_merge)"
   ]
  },
  {
   "cell_type": "code",
   "execution_count": null,
   "metadata": {},
   "outputs": [],
   "source": []
  }
 ],
 "metadata": {
  "kernelspec": {
   "display_name": "Hail",
   "language": "python",
   "name": "hail"
  },
  "language_info": {
   "codemirror_mode": {
    "name": "ipython",
    "version": 3
   },
   "file_extension": ".py",
   "mimetype": "text/x-python",
   "name": "python",
   "nbconvert_exporter": "python",
   "pygments_lexer": "ipython3",
   "version": "3.6.4"
  }
 },
 "nbformat": 4,
 "nbformat_minor": 2
}
